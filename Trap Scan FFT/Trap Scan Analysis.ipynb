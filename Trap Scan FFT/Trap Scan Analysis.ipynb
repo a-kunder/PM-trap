{
 "cells": [
  {
   "cell_type": "code",
   "execution_count": 17,
   "metadata": {},
   "outputs": [],
   "source": [
    "import numpy as np\n",
    "import pandas as pd\n",
    "import matplotlib.pyplot as plt\n",
    "from scipy import stats\n",
    "import os\n",
    "import re"
   ]
  },
  {
   "cell_type": "code",
   "execution_count": 18,
   "metadata": {},
   "outputs": [],
   "source": [
    "#run a nested for loop to get the file names\n",
    "#write a function to load and display the FFT plot for that specific trap voltage configuration\n",
    "#could the double peak be detected automatically without manually inspecting every datapoint?"
   ]
  },
  {
   "cell_type": "code",
   "execution_count": 19,
   "metadata": {},
   "outputs": [
    {
     "data": {
      "image/png": "[encoded data removed]",
      "text/plain": [
       "<Figure size 432x288 with 1 Axes>"
      ]
     },
     "metadata": {
      "needs_background": "light"
     },
     "output_type": "display_data"
    }
   ],
   "source": [
    "def gaussian(x, mu, sig):\n",
    "    return np.exp(-np.power(x - mu, 2.) / (2 * np.power(sig, 2.)))\n",
    "\n",
    "x  = np.linspace(0, 100, 100)\n",
    "y1 = gaussian(x[:50], 25, 5)\n",
    "y2 = gaussian(x[50:], 75, 5)\n",
    "y  = np.append(y1, y2)\n",
    "plt.plot(x, y)\n",
    "plt.xlabel('x')\n",
    "plt.ylabel('f(x)');"
   ]
  },
  {
   "cell_type": "code",
   "execution_count": 33,
   "metadata": {},
   "outputs": [
    {
     "name": "stdout",
     "output_type": "stream",
     "text": [
      "6000 6000 6000\n"
     ]
    }
   ],
   "source": [
    "folder = 'Trap Scan Weekend'\n",
    "files = [f for f in os.listdir(folder)]\n",
    "ring_v, tr, asym = [], [], []\n",
    "for f in files:\n",
    "    volt, ratio, a = f.split('_')\n",
    "    ring_v.append(float(volt))\n",
    "    tr.append(float(ratio))\n",
    "    asym.append(float(re.findall(r'(.*).csv', a)[0]))\n",
    "\n",
    "print(len(ring_v), len(tr), len(asym))"
   ]
  },
  {
   "cell_type": "code",
   "execution_count": null,
   "metadata": {},
   "outputs": [],
   "source": [
    "x = np.linspace(0,4,1e3)\n",
    "data = .2*np.sin(10*x)+ np.exp(-np.abs(2-x)**2)\n",
    "\n",
    "# that's the line, you need:\n",
    "#a = np.diff(np.sign(diff(data))).nonzero()[0] + 1 # local min+max\n",
    "b = (np.diff(np.sign(np.diff(data))) > 0).nonzero()[0] + 1 # local min\n",
    "#c = (diff(sign(diff(data))) < 0).nonzero()[0] + 1 # local max\n",
    "\n",
    "\n",
    "# graphical output...\n",
    "from pylab import *\n",
    "plot(x,data)\n",
    "plot(x[b], data[b], \"o\", label=\"min\")\n",
    "#plot(x[c], data[c], \"o\", label=\"max\")\n",
    "legend()\n",
    "show()"
   ]
  },
  {
   "cell_type": "code",
   "execution_count": null,
   "metadata": {},
   "outputs": [],
   "source": []
  }
 ],
 "metadata": {
  "kernelspec": {
   "display_name": "Python 3",
   "language": "python",
   "name": "python3"
  },
  "language_info": {
   "codemirror_mode": {
    "name": "ipython",
    "version": 3
   },
   "file_extension": ".py",
   "mimetype": "text/x-python",
   "name": "python",
   "nbconvert_exporter": "python",
   "pygments_lexer": "ipython3",
   "version": "3.7.6"
  }
 },
 "nbformat": 4,
 "nbformat_minor": 4
}
